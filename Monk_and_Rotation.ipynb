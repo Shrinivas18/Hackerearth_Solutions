{
  "nbformat": 4,
  "nbformat_minor": 0,
  "metadata": {
    "colab": {
      "provenance": [],
      "authorship_tag": "ABX9TyMsWDktKA25LDIKvjcZEyd2",
      "include_colab_link": true
    },
    "kernelspec": {
      "name": "python3",
      "display_name": "Python 3"
    },
    "language_info": {
      "name": "python"
    }
  },
  "cells": [
    {
      "cell_type": "markdown",
      "metadata": {
        "id": "view-in-github",
        "colab_type": "text"
      },
      "source": [
        "<a href=\"https://colab.research.google.com/github/Shrinivas18/Hackerearth_Solutions/blob/main/Monk_and_Rotation.ipynb\" target=\"_parent\"><img src=\"https://colab.research.google.com/assets/colab-badge.svg\" alt=\"Open In Colab\"/></a>"
      ]
    },
    {
      "cell_type": "markdown",
      "source": [
        "**PROBLEM :**"
      ],
      "metadata": {
        "id": "pZw_yB_IlgUP"
      }
    },
    {
      "cell_type": "markdown",
      "source": [
        "Monk loves to preform different operations on arrays, and so being the principal of Hackerearth School, he assigned a task to his new student Mishki. Mishki will be provided with an integer array A of size N and an integer K , where she needs to rotate the array in the right direction by K steps and then print the resultant array."
      ],
      "metadata": {
        "id": "ptstVUMDlbTl"
      }
    },
    {
      "cell_type": "code",
      "source": [
        "# Number of testcases.\n",
        "testCase  = int(input(\"Number of Test cases : \"))\n",
        "\n",
        "# Array input from user and printing of rotations as per user input.\n",
        "for _ in range(testCase):\n",
        "    n,k = map(int,input(\"Input how many elements in array and number of rotations you want with space as separator : \").split())\n",
        "    l = list(map(int,input(\"Input array elements separated by space as separator : \").split()))\n",
        "    x = k%n\n",
        "    print(\"Array after rotations : \",*(l[n-x:]+l[:n-x]))"
      ],
      "metadata": {
        "colab": {
          "base_uri": "https://localhost:8080/"
        },
        "id": "b5h2c9qqllSo",
        "outputId": "e79737dd-f0f3-49ec-bdcc-0f3ca665e332"
      },
      "execution_count": 4,
      "outputs": [
        {
          "output_type": "stream",
          "name": "stdout",
          "text": [
            "Number of Test cases : 2\n",
            "Input how many elements in array and number of rotations you want with space as separator : 3 2\n",
            "Input array elements separated by space as separator : 2 4 5\n",
            "Array after rotations :  4 5 2\n",
            "Input how many elements in array and number of rotations you want with space as separator : 4 3\n",
            "Input array elements separated by space as separator : 4 12 3 6\n",
            "Array after rotations :  12 3 6 4\n"
          ]
        }
      ]
    }
  ]
}